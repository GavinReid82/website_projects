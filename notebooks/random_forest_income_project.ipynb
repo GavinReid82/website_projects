{
 "cells": [
  {
   "cell_type": "markdown",
   "id": "eb02aab2-4d5e-4c9b-9bcc-ce68f385a32c",
   "metadata": {},
   "source": [
    "# Random Forest Adult Income\n",
    "\n",
    "## Introduction\n",
    "This script guides us through data preparation, feature engineering, and the training and optimisation of a Random Forest model to predict income levels using the UCI Adult Income dataset. It evaluates the model's performance, tunes the depth parameter, and finally, interprets feature importance for model insights.\n",
    "\n",
    "The full dataset can be found here: https://archive.ics.uci.edu/dataset/20/census+income"
   ]
  },
  {
   "cell_type": "markdown",
   "id": "2dfb5528-3823-407d-93dc-efb55a85d4a4",
   "metadata": {},
   "source": [
    "## Libraries and Model Imports\n",
    "\n",
    "We begin by importing essential libraries like pandas, numpy, matplotlib, and seaborn for data manipulation, statistical operations, and visualisation. Several models and metrics from sklearn are also imported to facilitate data splitting, model training, and performance evaluation."
   ]
  },
  {
   "cell_type": "code",
   "execution_count": 53,
   "id": "543774c7-3d50-4abe-a65e-f314c534ad11",
   "metadata": {},
   "outputs": [],
   "source": [
    "import pandas as pd\n",
    "import numpy as np\n",
    "import matplotlib.pyplot as plt\n",
    "import seaborn as sns\n",
    "\n",
    "#Import models from scikit learn module:\n",
    "from sklearn.model_selection import train_test_split\n",
    "from sklearn.tree import DecisionTreeClassifier\n",
    "from sklearn.ensemble import RandomForestClassifier, BaggingClassifier, RandomForestRegressor\n",
    "from sklearn import tree\n",
    "from sklearn.linear_model import LogisticRegression\n",
    "from sklearn.metrics import accuracy_score, precision_score, recall_score, f1_score, roc_auc_score"
   ]
  },
  {
   "cell_type": "markdown",
   "id": "52964f92-e9d2-48bb-9635-091d88807b81",
   "metadata": {},
   "source": [
    "## Data Loading and Column Naming\n",
    "\n",
    "The Adult Income dataset is loaded with columns manually named according to the dataset documentation. This dataset is structured to analyse individuals’ income levels based on features like age, workclass, and education."
   ]
  },
  {
   "cell_type": "code",
   "execution_count": 56,
   "id": "54826b9e-50c2-452d-84ba-5cc17e375abc",
   "metadata": {},
   "outputs": [],
   "source": [
    "col_names = ['age', 'workclass', 'fnlwgt','education', 'education-num',\n",
    "'marital-status', 'occupation', 'relationship', 'race', 'sex',\n",
    "'capital-gain','capital-loss', 'hours-per-week','native-country', 'income']\n",
    "\n",
    "df = pd.read_csv('adult.data', header=None, names = col_names)"
   ]
  },
  {
   "cell_type": "markdown",
   "id": "a239dbb2-4f1c-45a5-9abb-19fa98692c8f",
   "metadata": {},
   "source": [
    "## Data Exploration and Cleaning\n",
    "\n",
    "- Distribution of Income: We first check the proportion of each income level in the dataset to understand the class balance.\n",
    "- Data Cleaning: Extra whitespace in object-type columns is removed to standardise text entries and improve consistency."
   ]
  },
  {
   "cell_type": "code",
   "execution_count": 59,
   "id": "27d49c86-bf81-4ab9-a2eb-7056984ba7d1",
   "metadata": {},
   "outputs": [
    {
     "name": "stdout",
     "output_type": "stream",
     "text": [
      "income\n",
      "<=50K    0.75919\n",
      ">50K     0.24081\n",
      "Name: proportion, dtype: float64\n",
      "<class 'pandas.core.frame.DataFrame'>\n",
      "RangeIndex: 32561 entries, 0 to 32560\n",
      "Data columns (total 15 columns):\n",
      " #   Column          Non-Null Count  Dtype \n",
      "---  ------          --------------  ----- \n",
      " 0   age             32561 non-null  int64 \n",
      " 1   workclass       32561 non-null  object\n",
      " 2   fnlwgt          32561 non-null  int64 \n",
      " 3   education       32561 non-null  object\n",
      " 4   education-num   32561 non-null  int64 \n",
      " 5   marital-status  32561 non-null  object\n",
      " 6   occupation      32561 non-null  object\n",
      " 7   relationship    32561 non-null  object\n",
      " 8   race            32561 non-null  object\n",
      " 9   sex             32561 non-null  object\n",
      " 10  capital-gain    32561 non-null  int64 \n",
      " 11  capital-loss    32561 non-null  int64 \n",
      " 12  hours-per-week  32561 non-null  int64 \n",
      " 13  native-country  32561 non-null  object\n",
      " 14  income          32561 non-null  object\n",
      "dtypes: int64(6), object(9)\n",
      "memory usage: 3.7+ MB\n",
      "None\n"
     ]
    }
   ],
   "source": [
    "#Distribution of income\n",
    "print(df.income.value_counts(normalize=True))\n",
    "print(df.info())\n",
    "\n",
    "#Clean columns by stripping extra whitespace for columns of type \"object\"\n",
    "for col in df.select_dtypes(['object']).columns:\n",
    "  df[col] = df[col].str.strip()"
   ]
  },
  {
   "cell_type": "markdown",
   "id": "af983ac0-98b2-42de-88ed-469190cc5a6b",
   "metadata": {},
   "source": [
    "## Feature Selection and Dummy Variable Creation\n",
    "\n",
    "- Feature Selection: A subset of columns (age, capital-gain, capital-loss, hours-per-week, sex, and race) is chosen for initial modelling.\n",
    "- Dummy Variables: To handle categorical variables (sex and race), we use pd.get_dummies to convert them into binary variables, excluding one category to avoid collinearity.\n",
    "- Target Variable: The income column is mapped to binary values: 0 for <=50K and 1 for >50K."
   ]
  },
  {
   "cell_type": "code",
   "execution_count": 62,
   "id": "28fb98ef-cb9e-42a9-a486-71f768e8ed03",
   "metadata": {},
   "outputs": [],
   "source": [
    "#Create feature dataframe X with feature columns and dummy variables for categorical features\n",
    "feature_cols = ['age', 'capital-gain', 'capital-loss', 'hours-per-week', 'sex','race']\n",
    "\n",
    "X = pd.get_dummies(df[feature_cols], drop_first=True)\n",
    "#Create output variable y which is binary, 0 when income is less than 50k, 1 when it is greather than 50k\n",
    "y = df['income'].map({\n",
    "  \"<=50K\": 0,\n",
    "  \">50K\": 1\n",
    "})"
   ]
  },
  {
   "cell_type": "markdown",
   "id": "c466a487-e1c4-451c-b481-baf6d7d507b3",
   "metadata": {},
   "source": [
    "## Data Splitting\n",
    "\n",
    "We split the data into training and testing sets (80% training, 20% testing) to train the model on a portion of the data and evaluate it on unseen data."
   ]
  },
  {
   "cell_type": "code",
   "execution_count": 65,
   "id": "d4791b5f-2681-4f20-bd6e-c99928d829da",
   "metadata": {},
   "outputs": [],
   "source": [
    "#Split data into a train and test set\n",
    "X_train, X_test, y_train, y_test = train_test_split(X, y, random_state=49, test_size=.20)"
   ]
  },
  {
   "cell_type": "markdown",
   "id": "eb73bf15-6d40-45be-a509-6112a95e920d",
   "metadata": {},
   "source": [
    "## Random Forest Model Training\n",
    "\n",
    "- Baseline Model: A Random Forest Classifier is instantiated with default parameters, fitted to the training data, and evaluated using test data accuracy.\n",
    "- Output: An initial accuracy score is printed, serving as a baseline to compare against optimised models."
   ]
  },
  {
   "cell_type": "code",
   "execution_count": 68,
   "id": "182d7582-3c86-445e-ae0e-05359cae5a43",
   "metadata": {},
   "outputs": [
    {
     "name": "stdout",
     "output_type": "stream",
     "text": [
      "Initial default RF forest score: 0.8094580070627975\n"
     ]
    }
   ],
   "source": [
    "#Instantiate random forest classifier, fit and score with default parameters\n",
    "rf = RandomForestClassifier()\n",
    "rf.fit(X_train, y_train)\n",
    "rf.score(X_test, y_test)\n",
    "\n",
    "print(f'Initial default RF forest score: {rf.score(X_test, y_test)}')"
   ]
  },
  {
   "cell_type": "markdown",
   "id": "d7734f34-f206-4d59-a5e1-decec9c6cb3b",
   "metadata": {},
   "source": [
    "## Hyperparameter Tuning\n",
    "\n",
    "- Depth Tuning: The max_depth parameter, controlling tree depth, is tested across a range from 1 to 25. The model is retrained for each depth, with accuracy recorded for both training and test sets.\n",
    "- Best Depth Selection: We find the depth achieving the highest accuracy on the test set, marking it as the best model depth.\n",
    "- Visualisation: A plot shows training and test accuracies across depths, illustrating model performance as tree complexity varies."
   ]
  },
  {
   "cell_type": "code",
   "execution_count": 70,
   "id": "600a4e2d-a0b5-4063-a054-5f5aca134b47",
   "metadata": {},
   "outputs": [],
   "source": [
    "#Tune the hyperparameter max_depth over a range from 1-25, save scores for test and train set\n",
    "np.random.seed(0)\n",
    "accuracy_train = []\n",
    "accuracy_test = []\n",
    "depths = np.arange(1,26,1)\n",
    "for depth in depths:\n",
    "    rf = RandomForestClassifier(max_depth=depth)\n",
    "    rf.fit(X_train, y_train)\n",
    "    y_pred = rf.predict(X_test)\n",
    "    accuracy_test.append(accuracy_score(y_test, rf.predict(X_test)))\n",
    "    accuracy_train.append(accuracy_score(y_train, rf.predict(X_train)))"
   ]
  },
  {
   "cell_type": "markdown",
   "id": "2c621a80-bf0b-4d40-9c1c-611a8f302be5",
   "metadata": {},
   "source": [
    "## Feature Importance Evaluation:\n",
    "\n",
    "We retrain the Random Forest with the best max_depth found and calculate feature importances. This indicates which features most significantly affect the model’s predictions, allowing us to interpret the model’s decisions."
   ]
  },
  {
   "cell_type": "code",
   "execution_count": 73,
   "id": "d8a7dffc-8123-462f-88b4-8daa6865ff4f",
   "metadata": {},
   "outputs": [
    {
     "name": "stdout",
     "output_type": "stream",
     "text": [
      "Best accuracy: 0.8209734377399048\n",
      "Best Depth: 14\n"
     ]
    },
    {
     "data": {
      "image/png": "[encoded data removed]",
      "text/plain": [
       "<Figure size 640x480 with 1 Axes>"
      ]
     },
     "metadata": {},
     "output_type": "display_data"
    },
    {
     "name": "stdout",
     "output_type": "stream",
     "text": [
      "Top 5 random forest features:\n",
      "          feature  importance\n",
      "1    capital-gain    0.355011\n",
      "0             age    0.259970\n",
      "2    capital-loss    0.144690\n",
      "3  hours-per-week    0.141772\n",
      "4        sex_Male    0.076163\n"
     ]
    }
   ],
   "source": [
    "#Find the best accuracy and at what depth that occurs\n",
    "best_accuracy = np.max(accuracy_test)\n",
    "best_depth = depths[np.argmax(accuracy_test)]\n",
    "\n",
    "print(f'Best accuracy: {best_accuracy}')\n",
    "print(f'Best Depth: {best_depth}')\n",
    "\n",
    "#Plot the accuracy scores for the test and train set over the range of depth values\n",
    "plt.plot(depths, accuracy_test, c='red')\n",
    "plt.plot(depths, accuracy_train, c='blue')\n",
    "plt.legend(['test accuracy', 'train accuracy'])\n",
    "plt.xlabel('max depth')\n",
    "plt.ylabel('accuracy')\n",
    "plt.show()\n",
    "\n",
    "#Save the best random forest model and save the feature importances in a dataframe\n",
    "best_rf = RandomForestClassifier(max_depth=best_depth)\n",
    "best_rf.fit(X_train, y_train)\n",
    "\n",
    "feature_imp_df = pd.DataFrame(zip(X_train.columns, best_rf.feature_importances_),  columns=['feature', 'importance'])\n",
    "\n",
    "print('Top 5 random forest features:')\n",
    "print(feature_imp_df.sort_values('importance', ascending=False).iloc[0:5])"
   ]
  },
  {
   "cell_type": "markdown",
   "id": "49cbd123-77c2-4163-a72a-48442d819357",
   "metadata": {},
   "source": [
    "## Feature Engineering\n",
    "\n",
    "Two new features are created: education_bin, categorising education levels, and native-country. We update the feature set to include these new features and recreate the training and testing splits."
   ]
  },
  {
   "cell_type": "code",
   "execution_count": 75,
   "id": "6868c859-43e7-4601-a4ca-5c3519e3965d",
   "metadata": {},
   "outputs": [],
   "source": [
    "#Create two new features, based on education and native country\n",
    "df['education_bin'] =  pd.cut(df['education-num'], [0,9,13,16], labels=['HS or less', 'College to Bachelors', 'Masters or more'])\n",
    "\n",
    "feature_cols = ['age',\n",
    "       'capital-gain', 'capital-loss', 'hours-per-week', 'sex', 'race','education_bin']\n",
    "#Use these two new additional features and recreate X and test/train split\n",
    "X = pd.get_dummies(df[feature_cols], drop_first=True)\n",
    "x_train, x_test, y_train, y_test = train_test_split(X,y, random_state=1, test_size=.2)\n",
    "\n",
    "#Find the best max depth now with the additional two features\n",
    "np.random.seed(0)"
   ]
  },
  {
   "cell_type": "markdown",
   "id": "1e545848-6c7c-4430-9b7e-f7279b7b8a6c",
   "metadata": {},
   "source": [
    "## Model Training with New Features\n",
    "\n",
    "The hyperparameter tuning process is repeated with the updated feature set to find the optimal max_depth. The best depth and its corresponding accuracy are printed, and the model is retrained with the additional features for improved performance."
   ]
  },
  {
   "cell_type": "code",
   "execution_count": 77,
   "id": "a081b9bc-9a69-4a13-8701-a8b952ce0a8a",
   "metadata": {},
   "outputs": [
    {
     "name": "stdout",
     "output_type": "stream",
     "text": [
      "The highest accuracy on the test is achieved when depth: 9\n",
      "The highest accuracy on the test set is: 84.431%\n"
     ]
    },
    {
     "data": {
      "image/png": "[encoded data removed]",
      "text/plain": [
       "<Figure size 640x480 with 1 Axes>"
      ]
     },
     "metadata": {},
     "output_type": "display_data"
    }
   ],
   "source": [
    "accuracy_train=[]\n",
    "accuracy_test = []\n",
    "depths = range(1,10)\n",
    "for i in depths:\n",
    "    rf = RandomForestClassifier(max_depth=i)\n",
    "    rf.fit(x_train, y_train)\n",
    "    y_pred = rf.predict(x_test)\n",
    "    accuracy_test.append(accuracy_score(y_test, rf.predict(x_test)))\n",
    "    accuracy_train.append(accuracy_score(y_train, rf.predict(x_train)))\n",
    "    \n",
    "\n",
    "#Save the best model and print the two features with the new feature set\n",
    "best_acc= np.max(accuracy_test)\n",
    "best_depth = depths[np.argmax(accuracy_test)]\n",
    "print(f'The highest accuracy on the test is achieved when depth: {best_depth}')\n",
    "print(f'The highest accuracy on the test set is: {round(best_acc*100,3)}%')\n",
    "plt.figure(2)\n",
    "plt.plot(depths, accuracy_test,'bo--',depths, accuracy_train,'r*:')\n",
    "plt.legend(['test accuracy', 'train accuracy'])\n",
    "plt.xlabel('max depth')\n",
    "plt.ylabel('accuracy')\n",
    "plt.show()"
   ]
  },
  {
   "cell_type": "markdown",
   "id": "e257ffdf-a985-47be-9033-d83772c81404",
   "metadata": {},
   "source": [
    "## Final Model Evaluation and Feature Importances\n",
    "\n",
    "The Random Forest model is retrained with the updated feature set and the best max_depth, with feature importances printed for interpretation. The top features provide insights into which factors most influence income predictions in the model’s current setup."
   ]
  },
  {
   "cell_type": "code",
   "execution_count": 79,
   "id": "5791d2f4-86e3-416c-b218-257498c071f0",
   "metadata": {},
   "outputs": [
    {
     "name": "stdout",
     "output_type": "stream",
     "text": [
      "Top 5 random forest features:\n",
      "          feature  importance\n",
      "0             age    0.326777\n",
      "3  hours-per-week    0.276717\n",
      "1    capital-gain    0.166229\n",
      "2    capital-loss    0.109842\n",
      "4        sex_Male    0.043077\n"
     ]
    }
   ],
   "source": [
    "# Retrain with better model\n",
    "best_rf = RandomForestClassifier(max_depth=9)\n",
    "best_rf.fit(X_train, y_train)\n",
    "\n",
    "feature_imp_df = pd.DataFrame(zip(X_train.columns, best_rf.feature_importances_),  columns=['feature', 'importance'])\n",
    "\n",
    "print('Top 5 random forest features:')\n",
    "print(feature_imp_df.sort_values('importance', ascending=False).iloc[0:5])"
   ]
  },
  {
   "cell_type": "code",
   "execution_count": null,
   "id": "498b5295-a6e5-4528-aed7-62c387f56786",
   "metadata": {},
   "outputs": [],
   "source": []
  }
 ],
 "metadata": {
  "kernelspec": {
   "display_name": "Python 3 (ipykernel)",
   "language": "python",
   "name": "python3"
  },
  "language_info": {
   "codemirror_mode": {
    "name": "ipython",
    "version": 3
   },
   "file_extension": ".py",
   "mimetype": "text/x-python",
   "name": "python",
   "nbconvert_exporter": "python",
   "pygments_lexer": "ipython3",
   "version": "3.9.7"
  }
 },
 "nbformat": 4,
 "nbformat_minor": 5
}
